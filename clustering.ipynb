{
  "cells": [
    {
      "attachments": {},
      "cell_type": "markdown",
      "metadata": {},
      "source": [
        "<a href=\"https://kritikseth.github.io/redirect\" target=\"_parent\"><img src=\"https://raw.githack.com/kritikseth/kritikseth/master/redirect.svg\" alt=\"Kritik Seth\"/></a>"
      ]
    },
    {
      "cell_type": "code",
      "execution_count": null,
      "metadata": {
        "id": "ge1KLXDgxloc"
      },
      "outputs": [],
      "source": [
        "import pandas as pd\n",
        "import numpy as np\n",
        "\n",
        "from tqdm.notebook import tqdm\n",
        "\n",
        "from sklearn.cluster import KMeans, DBSCAN\n",
        "from sklearn.preprocessing import LabelEncoder, OrdinalEncoder\n",
        "from kmodes.kprototypes import KPrototypes\n",
        "from sklearn.cluster import KMeans, DBSCAN\n",
        "from mpl_toolkits.mplot3d import Axes3D\n",
        "from yellowbrick.classifier import ROCAUC\n",
        "\n",
        "import seaborn as sns\n",
        "from plotly import tools\n",
        "import plotly.express as px\n",
        "import plotly.graph_objects as go\n",
        "from plotly.subplots import make_subplots\n",
        "import plotly.offline as py\n",
        "import matplotlib.pyplot as plt\n",
        "%matplotlib inline\n",
        "\n",
        "import warnings\n",
        "warnings.filterwarnings('ignore')"
      ]
    },
    {
      "cell_type": "code",
      "execution_count": null,
      "metadata": {
        "colab": {
          "base_uri": "https://localhost:8080/"
        },
        "id": "56g_0bJAxqfM",
        "outputId": "55ae2ef2-84a8-497c-a182-a7ff1fa7aa46"
      },
      "outputs": [
        {
          "name": "stdout",
          "output_type": "stream",
          "text": [
            "Mounted at /content/gdrive\n"
          ]
        }
      ],
      "source": [
        "from google.colab import drive\n",
        "drive.mount('/content/gdrive', force_remount=True)"
      ]
    },
    {
      "cell_type": "code",
      "execution_count": null,
      "metadata": {
        "id": "H7mQOCGUxr6c"
      },
      "outputs": [],
      "source": [
        "df = pd.read_csv('/content/gdrive/MyDrive/Capstone/transformed_fps.csv')"
      ]
    },
    {
      "cell_type": "code",
      "execution_count": null,
      "metadata": {
        "id": "lYOQy7lrzPZM"
      },
      "outputs": [],
      "source": [
        "cat_cols = df.loc[:, df.nunique() < 32].columns.tolist()\n",
        "drop_cols = ['id', 'CPU Name', 'GPU Name', 'GPU Open GL']\n",
        "# label_cols = ['CPU Brand', 'CPU Series', 'CPU Model',\n",
        "#               'CPU Type', 'CPU Multiplier Unlocked',\n",
        "#               'GPU Architecture', 'GPU Bus', 'GPU Memory Type',\n",
        "#               'GPU Open CL', 'GPU Open GL', 'GPU Shader Model', 'Game',\n",
        "#               'Game Settings', 'Dataset', 'GPU Direct X']\n",
        "\n",
        "auto_ordinal_cols = ['Game Resolution', 'CPU Base Clock', 'GPU Direct X',\n",
        "                     'GPU Open CL', 'GPU Process Size', 'GPU Shader Model', 'GPU Vulkan', 'Game Resolution'] # Questionable: CPU Base Clock, \n",
        "\n",
        "df['CPU Model'] = df['CPU Model'].replace({'X2': 0, '3': 1, 'i3': 1, '5': 2, 'i5': 2, '7': 3, 'i7': 3, '9': 4, 'Threadripper': 5})\n",
        "df['Game Settings'] = df['CPU Model'].replace({'low': 0, 'med': 1, 'high': 2, 'max': 3})\n",
        "\n",
        "# df = df.drop(drop_cols, axis=1)\n",
        "# for col in label_cols:\n",
        "#     le = LabelEncoder()\n",
        "#     df[col] = le.fit_transform(df[col])"
      ]
    },
    {
      "cell_type": "markdown",
      "metadata": {},
      "source": [
        "## Clustering"
      ]
    },
    {
      "cell_type": "code",
      "execution_count": null,
      "metadata": {},
      "outputs": [],
      "source": [
        "# 3d scatterplot using plotly\n",
        "Scene = dict(xaxis = dict(title  = 'Resolution'),yaxis = dict(title  = 'FPS'),zaxis = dict(title  = 'Settings'))\n",
        "labels = kproto.labels_\n",
        "trace = go.Scatter3d(x=mark_one[:, 0], y=mark_one[:, 1], z=mark_one[:, 2], mode='markers',marker=dict(color = labels, size= 10, line=dict(color= 'black',width = 10)))\n",
        "layout = go.Layout(margin=dict(l=0,r=0),scene = Scene,height = 800,width = 800)\n",
        "data = [trace]\n",
        "fig = go.Figure(data = data, layout = layout)\n",
        "fig.show()"
      ]
    },
    {
      "cell_type": "markdown",
      "metadata": {},
      "source": [
        "#### DBSCAN"
      ]
    },
    {
      "cell_type": "code",
      "execution_count": null,
      "metadata": {},
      "outputs": [],
      "source": [
        "big_part, small_part = train_test_split(full_data, test_size=0.1, random_state=R_STATE)\n",
        "features_db = small_part.drop(['Game Resolution', 'FPS', 'Game Settings'], axis = 1)\n",
        "target_db = small_part[['Game Resolution', 'FPS', 'Game Settings']]"
      ]
    },
    {
      "cell_type": "code",
      "execution_count": null,
      "metadata": {},
      "outputs": [],
      "source": [
        "lis = []\n",
        "window_size = 10000\n",
        "for i in range(len(full_data)//window_size):\n",
        "  print(i)\n",
        "  db = full_data[i*window_size:(i+1)*window_size]\n",
        "  print(db.shape)\n",
        "  features_db = db.drop(['Game Resolution', 'FPS', 'Game Settings'], axis = 1)\n",
        "  target_db = db[['Game Resolution', 'FPS', 'Game Settings']]\n",
        "  features_db_dist_matrix = gower.gower_matrix(features_db)\n",
        "  a = pd.DataFrame(features_db_dist_matrix)\n",
        "  dbs = DBSCAN(eps = 0.8, min_samples = 10).fit(a)\n",
        "  b = dbs.labels_\n",
        "  lis += list(b)\n",
        "  print(f'{i+1} out of 17 done')"
      ]
    },
    {
      "cell_type": "code",
      "execution_count": null,
      "metadata": {},
      "outputs": [],
      "source": [
        "full_data = full_data.head(180000)\n",
        "full_data['clusters'] = lis"
      ]
    },
    {
      "cell_type": "code",
      "execution_count": null,
      "metadata": {},
      "outputs": [],
      "source": [
        "# db_data = full_data.to_csv('/content/gdrive/MyDrive/Capstone/full_data.csv')"
      ]
    },
    {
      "cell_type": "code",
      "execution_count": null,
      "metadata": {},
      "outputs": [],
      "source": [
        "features_db = full_data.drop(['Game Resolution', 'FPS', 'Game Settings'], axis = 1)\n",
        "target_db = full_data[['Game Resolution', 'FPS', 'Game Settings']]"
      ]
    },
    {
      "cell_type": "code",
      "execution_count": null,
      "metadata": {},
      "outputs": [],
      "source": [
        "mark_two = target_db.values"
      ]
    },
    {
      "cell_type": "code",
      "execution_count": null,
      "metadata": {},
      "outputs": [],
      "source": [
        "# 3d scatterplot using plotly\n",
        "Scene = dict(xaxis = dict(title  = 'Resolution'),yaxis = dict(title  = 'FPS'),zaxis = dict(title  = 'Settings'))\n",
        "labels = full_data['clusters']\n",
        "trace = go.Scatter3d(x=mark_two[:, 0], y=mark_two[:, 1], z=mark_two[:, 2], mode='markers',marker=dict(color = labels, size= 10, line=dict(color= 'black',width = 10)))\n",
        "layout = go.Layout(margin=dict(l=0,r=0),scene = Scene,height = 800,width = 800)\n",
        "data = [trace]\n",
        "fig = go.Figure(data = data, layout = layout)\n",
        "fig.show()"
      ]
    },
    {
      "cell_type": "code",
      "execution_count": null,
      "metadata": {},
      "outputs": [],
      "source": [
        "# un = []\n",
        "# eps_values = np.abs(np.linspace(0,1,100))\n",
        "# min_values = np.linspace(1,21,20).astype(int)\n",
        "# for i,eps in enumerate(eps_values[1:-1]):\n",
        "#   print(f'{i+1}')\n",
        "#   for min in min_values:\n",
        "#     dbs = DBSCAN(eps = eps, min_samples = min)\n",
        "#     dbs.fit(a)\n",
        "#     b = dbs.labels_\n",
        "#     unique, counts = np.unique(b, return_counts=True)\n",
        "#     if len(unique)<8 and len(unique)>4:\n",
        "#       un.append([eps,min,counts])"
      ]
    },
    {
      "attachments": {},
      "cell_type": "markdown",
      "metadata": {},
      "source": [
        "<a href=\"https://kritikseth.github.io/redirect\" target=\"_parent\"><img src=\"https://raw.githack.com/kritikseth/kritikseth/master/redirect.svg\" alt=\"Kritik Seth\"/></a>"
      ]
    }
  ],
  "metadata": {
    "colab": {
      "provenance": []
    },
    "kernelspec": {
      "display_name": "Python 3",
      "name": "python3"
    },
    "language_info": {
      "name": "python"
    }
  },
  "nbformat": 4,
  "nbformat_minor": 0
}

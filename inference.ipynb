{
 "cells": [
  {
   "attachments": {},
   "cell_type": "markdown",
   "metadata": {},
   "source": [
    "<a href=\"https://kritikseth.github.io/redirect\" target=\"_parent\"><img src=\"https://raw.githack.com/kritikseth/kritikseth/master/redirect.svg\" alt=\"Kritik Seth\"/></a>"
   ]
  },
  {
   "cell_type": "code",
   "execution_count": null,
   "metadata": {},
   "outputs": [],
   "source": [
    "import pandas as pd\n",
    "import numpy as np\n",
    "from pandasql import sqldf\n",
    "\n",
    "import math\n",
    "from scipy import stats\n",
    "from scipy.stats import geom\n",
    "from sklearn.linear_model import LinearRegression\n",
    "from statsmodels.stats.power import TTestIndPower, ttest_power\n",
    "\n",
    "import re\n",
    "from tqdm.notebook import tqdm\n",
    "\n",
    "import seaborn as sns\n",
    "from plotly import tools\n",
    "import plotly.express as px\n",
    "import plotly.graph_objects as go\n",
    "from plotly.subplots import make_subplots\n",
    "import plotly.offline as py\n",
    "import matplotlib.pyplot as plt\n",
    "%matplotlib inline\n",
    "\n",
    "from mpl_toolkits.mplot3d import Axes3D\n",
    "from yellowbrick.classifier import ROCAUC\n",
    "\n",
    "import warnings\n",
    "warnings.filterwarnings('ignore')\n",
    "warnings.filterwarnings('ignore', category = DeprecationWarning)\n",
    "\n",
    "R_STATE = 18714836 # random state"
   ]
  },
  {
   "cell_type": "markdown",
   "metadata": {},
   "source": [
    "## Inference"
   ]
  },
  {
   "cell_type": "code",
   "execution_count": null,
   "metadata": {},
   "outputs": [],
   "source": [
    "cpu_years = pd.read_excel('/content/gdrive/MyDrive/Capstone/cpu_names.xlsx')"
   ]
  },
  {
   "cell_type": "code",
   "execution_count": null,
   "metadata": {},
   "outputs": [],
   "source": [
    "cpu_detail_cols = ['CPU Brand', 'CPU Model', 'CPU Series', 'CPU Generation', 'CPU Cores']\n",
    "\n",
    "cpu_years['CPU Name'] = cpu_years['CPU Name'].apply(lambda x:x.replace('-', ' '))\n",
    "# cpu_years.drop(['month'], axis=1, inplace=True)\n",
    "cpu = pd.merge(df[cpu_detail_cols + ['CPU Name', 'CPU Transistors']], cpu_years, how='left', on='CPU Name')\n",
    "cpu = cpu[~cpu['CPU Transistors'].isna() & ~cpu['CPU Generation'].isna()] #dropping na transistors\n",
    "\n",
    "cpu.drop(['Unnamed: 3'], axis=1, inplace=True)\n",
    "numeric_cols = ['CPU Transistors', 'CPU Generation']\n",
    "cpu[numeric_cols] = cpu[numeric_cols].apply(pd.to_numeric)\n",
    "\n",
    "cpu.dropna(inplace = True)\n",
    "cpu = cpu.drop_duplicates()\n",
    "cpu['Adjusted Transistors'] = cpu['CPU Transistors']/cpu['CPU Cores']\n",
    "cpu['Adjusted Transistors'] = cpu['Adjusted Transistors'].apply(int)\n",
    "\n",
    "cpu.sort_values('CPU Release Year')\n",
    "\n",
    "temp = cpu.copy()\n",
    "new_cols = [x.replace(' ', '_') for x in cpu.columns]\n",
    "print(new_cols)\n",
    "temp.columns = new_cols\n",
    "temp.head()"
   ]
  },
  {
   "cell_type": "code",
   "execution_count": null,
   "metadata": {},
   "outputs": [],
   "source": [
    "out = sqldf('''\n",
    "\n",
    "    select max(Adjusted_Transistors) as Max_transistors, count(Adjusted_Transistors) as Models_released,\n",
    "    avg(Adjusted_Transistors) as Avg_transistors,\n",
    "    case when month < 1 then CPU_Release_Year - 1 \n",
    "    when month > 9 then CPU_Release_Year + 1\n",
    "    else CPU_Release_Year\n",
    "    end as new_year\n",
    "    from temp group by new_year\n",
    "\n",
    "''')"
   ]
  },
  {
   "cell_type": "code",
   "execution_count": null,
   "metadata": {},
   "outputs": [],
   "source": [
    "out['Double_Transistors'] = 2 * out['Max_transistors']\n",
    "out['Actual_Transistors'] = out['Max_transistors'].shift(-2)"
   ]
  },
  {
   "cell_type": "code",
   "execution_count": null,
   "metadata": {},
   "outputs": [],
   "source": [
    "out = out.replace(out.iloc[13][0], 1200) \n",
    "out = out.replace(out.iloc[6][0], 1303)\n",
    "out = out.replace(out.iloc[7][0], 1303)\n",
    "out = out.replace(out.iloc[11][0], 3100)"
   ]
  },
  {
   "cell_type": "code",
   "execution_count": null,
   "metadata": {},
   "outputs": [],
   "source": [
    "out"
   ]
  },
  {
   "cell_type": "code",
   "execution_count": null,
   "metadata": {},
   "outputs": [],
   "source": [
    "stat1, p1 = stats.ks_2samp(out['Actual_Transistors'][:-2], out['Double_Transistors'][:-2])"
   ]
  },
  {
   "cell_type": "code",
   "execution_count": null,
   "metadata": {},
   "outputs": [],
   "source": [
    "stat2, p2 = stats.mannwhitneyu(out['Actual_Transistors'][:-2], out['Double_Transistors'][:-2])"
   ]
  },
  {
   "cell_type": "code",
   "execution_count": null,
   "metadata": {},
   "outputs": [],
   "source": [
    "n1 = 12\n",
    "n2 = 12\n",
    "mu = (n1*n2)/2\n",
    "sigma = math.sqrt((n1*n2)*(n1+n2+1)/12)\n",
    "z = (stat2 - mu)/sigma\n",
    "r = abs(z)/math.sqrt(n1)"
   ]
  },
  {
   "cell_type": "code",
   "execution_count": null,
   "metadata": {},
   "outputs": [],
   "source": [
    "r"
   ]
  },
  {
   "cell_type": "code",
   "execution_count": null,
   "metadata": {},
   "outputs": [],
   "source": [
    "kde_df = out[['Actual_Transistors', 'Double_Transistors']]"
   ]
  },
  {
   "cell_type": "code",
   "execution_count": null,
   "metadata": {},
   "outputs": [],
   "source": [
    "ax = kde_df.plot.kde()\n",
    "plt.xlabel('Transistors')\n",
    "plt.ylabel('Density')\n",
    "plt.title('Comparison of Distribution Between Actual Transistors and Double Transistors')\n",
    "plt.savefig('KDE Plot Of Distributions')"
   ]
  },
  {
   "cell_type": "code",
   "execution_count": null,
   "metadata": {},
   "outputs": [],
   "source": [
    "one = out['Double_Transistors'][:-2]\n",
    "two = out['Actual_Transistors'][:-2]"
   ]
  },
  {
   "cell_type": "code",
   "execution_count": null,
   "metadata": {},
   "outputs": [],
   "source": [
    "X = out['new_year'][:-2]\n",
    "X_axis = np.arange(len(X))\n",
    "plt.bar(X_axis - 0.2, one, 0.4, label = 'Double_Transistors')\n",
    "plt.bar(X_axis + 0.2, two, 0.4, label = 'Actual_Transistors')\n",
    "plt.xticks(X_axis, X)\n",
    "plt.xlabel('Year')\n",
    "plt.ylabel('Number of Transistors')\n",
    "plt.title('Comparison of Distribution Between Actual Transistors and Double Transistors')\n",
    "plt.xticks(rotation = 45)\n",
    "plt.legend()\n",
    "plt.show()\n",
    "plt.savefig('Bar Plot Of Distributions')"
   ]
  },
  {
   "cell_type": "code",
   "execution_count": null,
   "metadata": {},
   "outputs": [],
   "source": [
    "errorBar_df = out.copy()"
   ]
  },
  {
   "cell_type": "code",
   "execution_count": null,
   "metadata": {},
   "outputs": [],
   "source": [
    "errorBar_df['Errors'] = abs(errorBar_df['Double_Transistors'] - errorBar_df['Actual_Transistors'])"
   ]
  },
  {
   "cell_type": "code",
   "execution_count": null,
   "metadata": {},
   "outputs": [],
   "source": [
    "errorBar_df"
   ]
  },
  {
   "cell_type": "code",
   "execution_count": null,
   "metadata": {},
   "outputs": [],
   "source": [
    "sem_Actual = out['Actual_Transistors'].std() / math.sqrt(12)\n",
    "sem_Actual"
   ]
  },
  {
   "cell_type": "code",
   "execution_count": null,
   "metadata": {},
   "outputs": [],
   "source": [
    "sem_Expected = out['Double_Transistors'].std() / math.sqrt(12)\n",
    "sem_Expected"
   ]
  },
  {
   "cell_type": "code",
   "execution_count": null,
   "metadata": {},
   "outputs": [],
   "source": [
    "fig, ax = plt.subplots(figsize = (10, 10))\n",
    "ax.bar(errorBar_df['new_year'], errorBar_df['Actual_Transistors'],\n",
    "       yerr=sem_Actual,\n",
    "       align='center',\n",
    "       alpha=0.5,\n",
    "       ecolor='black',\n",
    "       capsize=10)\n",
    "plt.xlabel('Year')\n",
    "plt.ylabel('Actual Number of Transistors')"
   ]
  },
  {
   "cell_type": "code",
   "execution_count": null,
   "metadata": {},
   "outputs": [],
   "source": [
    "fig, ax = plt.subplots(figsize = (10, 10))\n",
    "ax.bar(errorBar_df['new_year'], errorBar_df['Double_Transistors'],\n",
    "       yerr=sem_Expected,\n",
    "       align='center',\n",
    "       alpha=0.5,\n",
    "       ecolor='black',\n",
    "       capsize=10)\n",
    "plt.xlabel('Year')\n",
    "plt.ylabel('Expected Number of Transistors')"
   ]
  },
  {
   "cell_type": "markdown",
   "metadata": {},
   "source": [
    "## Data Imputation"
   ]
  },
  {
   "cell_type": "code",
   "execution_count": null,
   "metadata": {},
   "outputs": [],
   "source": [
    "based_col = ['CPU Brand', 'CPU Model', 'CPU Series', 'CPU Generation']\n",
    "\n",
    "geometric_cols = ['CPU Transistors']\n",
    "linear_cols = ['CPU Die Size']\n",
    "step_cols = []\n",
    "\n",
    "# Geometric Imputation\n",
    "if geometric_cols:\n",
    "    for impute_col in geometric_cols:\n",
    "        temp = df[based_col + [impute_col]].dropna(inplace=False)\n",
    "        temp[impute_col] = pd.to_numeric(temp[impute_col])\n",
    "        index = df[df[impute_col].isnull()].index.tolist()\n",
    "\n",
    "        value = temp.groupby(based_col).agg('mean').reset_index().to_dict('split')['data']\n",
    "        value_keys = [val[:4] for val in value]\n",
    "        for ind in tqdm(index):\n",
    "\n",
    "            key = tuple(df.loc[ind, based_col].values)\n",
    "            previous = [val for val in value if key[:3] == tuple(val[:3])]\n",
    "            if not previous:\n",
    "                df.drop(ind, axis=0, inplace=True)\n",
    "                continue\n",
    "            gen = [int(p[3]) for p in previous]\n",
    "            impute = [int(p[-1]) for p in previous]    \n",
    "\n",
    "            if list(key) in value_keys:\n",
    "                df.loc[ind, impute_col] = [val for val in value if key[:4] == tuple(val[:4])][0][-1]\n",
    "\n",
    "            else:\n",
    "                if int(key[3]) > min(gen) and int(key[3]) < max(gen):\n",
    "                    geom = np.geomspace(impute[gen.index(min(gen))],\n",
    "                                        impute[gen.index(max(gen))],\n",
    "                                        max(gen) - min(gen) + 1)\n",
    "                    df.loc[ind, impute_col] = geom[int(key[-1])-min(gen)]\n",
    "\n",
    "                if int(key[3]) < min(gen):\n",
    "                    gap = min(gen) - int(key[3])\n",
    "                    val = impute[gen.index(min(gen))]\n",
    "                    for i in range(gap): val /= 2\n",
    "                    df.loc[ind, impute_col] = val\n",
    "                \n",
    "                else:\n",
    "                    gap = int(key[3]) - max(gen)\n",
    "                    val = impute[gen.index(min(gen))]\n",
    "                    for i in range(gap): val *= 2\n",
    "                    df.loc[ind, impute_col] = val\n",
    "\n",
    "\n",
    "# Linear Imputation\n",
    "if linear_cols:\n",
    "    for impute_col in linear_cols:\n",
    "        temp = df[based_col + [impute_col]].dropna(inplace=False)\n",
    "        temp[impute_col] = pd.to_numeric(temp[impute_col])\n",
    "        index = df[df[impute_col].isnull()].index.tolist()\n",
    "\n",
    "        value = temp.groupby(based_col).agg('mean').reset_index().to_dict('split')['data']\n",
    "        value_keys = [val[:4] for val in value]\n",
    "        for ind in tqdm(index):\n",
    "\n",
    "            key = tuple(df.loc[ind, based_col].values)\n",
    "            previous = [val for val in value if key[:3] == tuple(val[:3])]\n",
    "            if not previous:\n",
    "                df.drop(ind, axis=0, inplace=True)\n",
    "                continue\n",
    "            gen = [int(p[3]) for p in previous]\n",
    "            impute = [int(p[-1]) for p in previous]    \n",
    "\n",
    "            if list(key) in value_keys:\n",
    "                df.loc[ind, impute_col] = [val for val in value if key[:4] == tuple(val[:4])][0][-1]\n",
    "\n",
    "            else:\n",
    "                lr = LinearRegression()\n",
    "                lr.fit(np.array(gen).reshape(-1, 1), np.array(impute).reshape(-1, 1))\n",
    "                df.loc[ind, impute_col] = lr.predict([[7]])[0][0]\n",
    "\n",
    "\n",
    "# Step Imputation\n",
    "if step_cols:\n",
    "    for impute_col in step_cols:\n",
    "        temp = df[based_col + [impute_col]].dropna(inplace=False)\n",
    "        temp[impute_col] = pd.to_numeric(temp[impute_col])\n",
    "        index = df[df[impute_col].isnull()].index.tolist()\n",
    "\n",
    "        value = temp.groupby(based_col).agg('mean').reset_index().to_dict('split')['data']\n",
    "        value_keys = [val[:4] for val in value]\n",
    "        for ind in tqdm(index):\n",
    "\n",
    "            key = tuple(df.loc[ind, based_col].values)\n",
    "            previous = [val for val in value if key[:3] == tuple(val[:3])]\n",
    "            if not previous:\n",
    "                df.drop(ind, axis=0, inplace=True)\n",
    "                continue\n",
    "            gen = [int(p[3]) for p in previous]\n",
    "            impute = [int(p[-1]) for p in previous]    \n",
    "\n",
    "            if list(key) in value_keys:\n",
    "                df.loc[ind, impute_col] = [val for val in value if key[:4] == tuple(val[:4])][0][-1]\n",
    "\n",
    "            else:\n",
    "                steps = np.linspace(impute[gen.index(min(gen))],\n",
    "                                    impute[gen.index(max(gen))],\n",
    "                                    max(gen) - min(gen) + 1)\n",
    "                step = step[1] - step[0]\n",
    "                if int(key[3]) > min(gen) and int(key[3]) < max(gen):\n",
    "                    df.loc[ind, impute_col] = steps[int(key[-1])-min(gen)]\n",
    "\n",
    "                if int(key[3]) < min(gen):\n",
    "                    gap = min(gen) - int(key[3])\n",
    "                    val = impute[gen.index(min(gen))]\n",
    "                    for i in range(gap): val -= step\n",
    "                    df.loc[ind, impute_col] = val\n",
    "                \n",
    "                else:\n",
    "                    gap = int(key[3]) - max(gen)\n",
    "                    val = impute[gen.index(min(gen))]\n",
    "                    for i in range(gap): val += step\n",
    "                    df.loc[ind, impute_col] = val"
   ]
  },
  {
   "cell_type": "code",
   "execution_count": null,
   "metadata": {},
   "outputs": [],
   "source": [
    " missing_values_table(df)"
   ]
  },
  {
   "attachments": {},
   "cell_type": "markdown",
   "metadata": {},
   "source": [
    "<a href=\"https://kritikseth.github.io/redirect\" target=\"_parent\"><img src=\"https://raw.githack.com/kritikseth/kritikseth/master/redirect.svg\" alt=\"Kritik Seth\"/></a>"
   ]
  }
 ],
 "metadata": {
  "language_info": {
   "name": "python"
  },
  "orig_nbformat": 4
 },
 "nbformat": 4,
 "nbformat_minor": 2
}
